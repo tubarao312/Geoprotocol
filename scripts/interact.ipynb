{
 "cells": [
  {
   "cell_type": "markdown",
   "metadata": {},
   "source": [
    "### Imports"
   ]
  },
  {
   "cell_type": "code",
   "execution_count": 6,
   "metadata": {},
   "outputs": [],
   "source": [
    "from web3 import Web3\n",
    "import json\n",
    "from web3.middleware import geth_poa_middleware\n",
    "from time import sleep\n",
    "import os\n",
    "import pandas as pd"
   ]
  },
  {
   "cell_type": "markdown",
   "metadata": {},
   "source": [
    "### Initiate all Wallet Address, Contract Address and Node API variables"
   ]
  },
  {
   "cell_type": "code",
   "execution_count": 7,
   "metadata": {},
   "outputs": [
    {
     "name": "stdout",
     "output_type": "stream",
     "text": [
      "c:\\Users\\pmper\\demos\\Geoprotocol\\build\\contracts\\DataBank.json\n"
     ]
    }
   ],
   "source": [
    "# Open Wallet Info JSON\n",
    "with open(\"walletInfo.json\", \"r\") as file:\n",
    "    walletInfo = json.load(file)\n",
    "\n",
    "# Assign Private and Public Keys\n",
    "PRIVATE_KEY = walletInfo[\"main\"][\"private\"]\n",
    "PUBLIC_KEY = walletInfo[\"main\"][\"public\"]\n",
    "\n",
    "# Connect to Infura Node\n",
    "NODE_URL = walletInfo[\"infuraURL\"]\n",
    "web3 = Web3(Web3.HTTPProvider(NODE_URL))\n",
    "web3.middleware_onion.inject(geth_poa_middleware, layer=0)\n",
    "\n",
    "# ABI Path to Data Bank Contract\n",
    "ABI_PATH = os.path.dirname(os.getcwd()) + \"\\\\build\\\\contracts\\\\DataBank.json\"\n",
    "\n",
    "# Open Contract Info JSON\n",
    "with open(\"contractInfo.json\", \"r\") as file:\n",
    "    contractInfo = json.load(file)\n",
    "\n",
    "# Fetch databank contract address\n",
    "ADDRESS = contractInfo[\"databank\"]\n",
    "\n",
    "print(ABI_PATH)"
   ]
  },
  {
   "cell_type": "markdown",
   "metadata": {},
   "source": [
    "### Contract Interaction Functions"
   ]
  },
  {
   "cell_type": "code",
   "execution_count": 8,
   "metadata": {},
   "outputs": [],
   "source": [
    "# Fetch contract\n",
    "def get_contract():\n",
    "    \"\"\"Gets the Data Bank Contract.\"\"\"\n",
    "    \n",
    "    with open(ABI_PATH) as f:\n",
    "        abi = json.load(f)\n",
    "\n",
    "    return web3.eth.contract(address=ADDRESS, abi=abi[\"abi\"])\n",
    "\n",
    "# Contract Interaction Functions\n",
    "\n",
    "def build_report_dict(bank, index) -> dict:\n",
    "    \"\"\"Builds a dictionary of a report's data.\"\"\"\n",
    "    \n",
    "    # Fetch Report Data\n",
    "    address = web3.toChecksumAddress(PUBLIC_KEY)\n",
    "\n",
    "    # Call all getter functions\n",
    "    reportType = bank.functions.get_report_type(index).call({'from': address })\n",
    "    reportImage = bank.functions.get_report_image(index).call({'from': address})\n",
    "    reportText = bank.functions.get_report_text(index).call({'from': address})\n",
    "    reportLocation = bank.functions.get_report_location(index).call({'from': address})\n",
    "    reportApproved = bank.functions.get_report_approved(index).call({'from': address})\n",
    "    reportStaked = bank.functions.get_report_staked_amount(index).call({'from': address})\n",
    "    reportReporter = bank.functions.get_report_reporter(index).call({'from': address})\n",
    "    reportTimestamp = bank.functions.get_report_timestamp(index).call({'from': address})\n",
    "\n",
    "    # Dictionary of report data\n",
    "    report = {\n",
    "        \"reportType\": reportType,\n",
    "        \"reportImage\": reportImage,\n",
    "        \"reportText\": reportText,\n",
    "        \"reportLocation\": reportLocation,\n",
    "        \"reportApproved\": reportApproved,\n",
    "        \"reportStaked\": reportStaked,\n",
    "        \"reportReporter\": reportReporter,\n",
    "        \"reportTimestamp\": reportTimestamp\n",
    "    }\n",
    "\n",
    "    return report\n",
    "\n",
    "def approve_report(bank, index):\n",
    "    \"\"\"Approves a report in the Data Bank Contract.\"\"\"\n",
    "\n",
    "    # Build Transaction\n",
    "    tx = bank.functions.approve_report(index).buildTransaction({\n",
    "        'from': PUBLIC_KEY,\n",
    "        'nonce': web3.eth.get_transaction_count(PUBLIC_KEY)\n",
    "        })\n",
    "\n",
    "    # Sign Transaction with Private Key\n",
    "    tx_create = web3.eth.account.sign_transaction(tx, PRIVATE_KEY)\n",
    "\n",
    "    # Send TXN and wait for receipt\n",
    "    tx_hash = web3.eth.send_raw_transaction(tx_create.rawTransaction)\n",
    "    tx_receipt = web3.eth.wait_for_transaction_receipt(tx_hash)\n",
    "\n",
    "def submit_report(bank, reportType, image, text, location):\n",
    "    \"\"\"Submits a report to the Data Bank Contract.\"\"\"\n",
    "\n",
    "    # Build Transaction\n",
    "    tx = bank.functions.submit_report(reportType, image, text, location).buildTransaction({\n",
    "        'value': 5000,\n",
    "        'from': PUBLIC_KEY,\n",
    "        'nonce': web3.eth.get_transaction_count(PUBLIC_KEY)\n",
    "        })\n",
    "\n",
    "    # Sign Transaction with Private Key\n",
    "    tx_create = web3.eth.account.sign_transaction(tx, PRIVATE_KEY)\n",
    "\n",
    "    # Send TXN and wait for receipt\n",
    "    tx_hash = web3.eth.send_raw_transaction(tx_create.rawTransaction)\n",
    "    tx_receipt = web3.eth.wait_for_transaction_receipt(tx_hash)\n",
    "\n",
    "def build_report_df(bank, lastNReports):\n",
    "    \"\"\"Builds a Pandas DataFrame of the last N reports.\"\"\"\n",
    "\n",
    "    # Fetch Report Data\n",
    "    address = web3.toChecksumAddress(PUBLIC_KEY)\n",
    "    reportCount = bank.functions.get_report_count().call({'from': address})\n",
    "\n",
    "    # Create DataFrame\n",
    "    df = pd.DataFrame(columns=[\"reportType\", \"reportImage\", \"reportText\", \"reportLocation\", \"reportApproved\", \"reportStaked\", \"reportReporter\", \"reportTimestamp\"])\n",
    "\n",
    "    # Populate DataFrame\n",
    "    for i in range(reportCount - lastNReports, reportCount):\n",
    "        report = build_report_dict(bank, i)\n",
    "        df = pd.concat([df, pd.DataFrame(report, index=[i])])\n",
    "    return df"
   ]
  },
  {
   "cell_type": "markdown",
   "metadata": {},
   "source": [
    "### Testing"
   ]
  },
  {
   "cell_type": "code",
   "execution_count": 9,
   "metadata": {},
   "outputs": [
    {
     "name": "stderr",
     "output_type": "stream",
     "text": [
      "C:\\Users\\pmper\\AppData\\Local\\Temp\\ipykernel_9460\\3332377822.py:88: FutureWarning: In a future version, object-dtype columns with all-bool values will not be included in reductions with bool_only=True. Explicitly cast to bool dtype instead.\n",
      "  df = pd.concat([df, pd.DataFrame(report, index=[i])])\n",
      "C:\\Users\\pmper\\AppData\\Local\\Temp\\ipykernel_9460\\3332377822.py:88: FutureWarning: In a future version, object-dtype columns with all-bool values will not be included in reductions with bool_only=True. Explicitly cast to bool dtype instead.\n",
      "  df = pd.concat([df, pd.DataFrame(report, index=[i])])\n"
     ]
    },
    {
     "data": {
      "text/html": [
       "<div>\n",
       "<style scoped>\n",
       "    .dataframe tbody tr th:only-of-type {\n",
       "        vertical-align: middle;\n",
       "    }\n",
       "\n",
       "    .dataframe tbody tr th {\n",
       "        vertical-align: top;\n",
       "    }\n",
       "\n",
       "    .dataframe thead th {\n",
       "        text-align: right;\n",
       "    }\n",
       "</style>\n",
       "<table border=\"1\" class=\"dataframe\">\n",
       "  <thead>\n",
       "    <tr style=\"text-align: right;\">\n",
       "      <th></th>\n",
       "      <th>reportType</th>\n",
       "      <th>reportImage</th>\n",
       "      <th>reportText</th>\n",
       "      <th>reportLocation</th>\n",
       "      <th>reportApproved</th>\n",
       "      <th>reportStaked</th>\n",
       "      <th>reportReporter</th>\n",
       "      <th>reportTimestamp</th>\n",
       "    </tr>\n",
       "  </thead>\n",
       "  <tbody>\n",
       "    <tr>\n",
       "      <th>48</th>\n",
       "      <td>1</td>\n",
       "      <td>testImage</td>\n",
       "      <td>testDescription</td>\n",
       "      <td>;</td>\n",
       "      <td>False</td>\n",
       "      <td>1000</td>\n",
       "      <td>0x3e98BC2b51d964dEbb7251456A34831F7e25d9C8</td>\n",
       "      <td>1665697851</td>\n",
       "    </tr>\n",
       "    <tr>\n",
       "      <th>49</th>\n",
       "      <td>2</td>\n",
       "      <td>testImage</td>\n",
       "      <td>testDescription</td>\n",
       "      <td>-9.1345574;38.74488</td>\n",
       "      <td>False</td>\n",
       "      <td>1000</td>\n",
       "      <td>0x3e98BC2b51d964dEbb7251456A34831F7e25d9C8</td>\n",
       "      <td>1665698137</td>\n",
       "    </tr>\n",
       "    <tr>\n",
       "      <th>50</th>\n",
       "      <td>3</td>\n",
       "      <td>testImage</td>\n",
       "      <td>testDescription</td>\n",
       "      <td>-9.1345574;38.74488</td>\n",
       "      <td>False</td>\n",
       "      <td>1000</td>\n",
       "      <td>0x3e98BC2b51d964dEbb7251456A34831F7e25d9C8</td>\n",
       "      <td>1665698142</td>\n",
       "    </tr>\n",
       "  </tbody>\n",
       "</table>\n",
       "</div>"
      ],
      "text/plain": [
       "   reportType reportImage       reportText       reportLocation  \\\n",
       "48          1   testImage  testDescription                    ;   \n",
       "49          2   testImage  testDescription  -9.1345574;38.74488   \n",
       "50          3   testImage  testDescription  -9.1345574;38.74488   \n",
       "\n",
       "   reportApproved reportStaked                              reportReporter  \\\n",
       "48          False         1000  0x3e98BC2b51d964dEbb7251456A34831F7e25d9C8   \n",
       "49          False         1000  0x3e98BC2b51d964dEbb7251456A34831F7e25d9C8   \n",
       "50          False         1000  0x3e98BC2b51d964dEbb7251456A34831F7e25d9C8   \n",
       "\n",
       "   reportTimestamp  \n",
       "48      1665697851  \n",
       "49      1665698137  \n",
       "50      1665698142  "
      ]
     },
     "execution_count": 9,
     "metadata": {},
     "output_type": "execute_result"
    }
   ],
   "source": [
    "# Testing\n",
    "bank = get_contract()\n",
    "\n",
    "df = build_report_df(bank, 3)\n",
    "\n",
    "df.to_csv('out.zip', index=False)\n",
    "\n",
    "df.head()"
   ]
  }
 ],
 "metadata": {
  "kernelspec": {
   "display_name": "Python 3.10.7 64-bit (microsoft store)",
   "language": "python",
   "name": "python3"
  },
  "language_info": {
   "codemirror_mode": {
    "name": "ipython",
    "version": 3
   },
   "file_extension": ".py",
   "mimetype": "text/x-python",
   "name": "python",
   "nbconvert_exporter": "python",
   "pygments_lexer": "ipython3",
   "version": "3.10.7"
  },
  "orig_nbformat": 4,
  "vscode": {
   "interpreter": {
    "hash": "461c938d22c9c9838b690be7822db5003fc45b073482fbe043aaebcef8c0f4de"
   }
  }
 },
 "nbformat": 4,
 "nbformat_minor": 2
}
