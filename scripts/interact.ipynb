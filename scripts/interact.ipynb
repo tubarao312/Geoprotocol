{
 "cells": [
  {
   "cell_type": "markdown",
   "metadata": {},
   "source": [
    "### Imports"
   ]
  },
  {
   "cell_type": "code",
   "execution_count": 9,
   "metadata": {},
   "outputs": [],
   "source": [
    "from web3 import Web3\n",
    "import json\n",
    "from web3.middleware import geth_poa_middleware\n",
    "from time import sleep\n",
    "import os\n",
    "import pandas as pd"
   ]
  },
  {
   "cell_type": "markdown",
   "metadata": {},
   "source": [
    "### Initiate all Wallet Address, Contract Address and Node API variables"
   ]
  },
  {
   "cell_type": "code",
   "execution_count": 10,
   "metadata": {},
   "outputs": [
    {
     "name": "stdout",
     "output_type": "stream",
     "text": [
      "c:\\Users\\pmper\\demos\\GeoprotocolMVP\\Contract Deployment\\build\\contracts\\DataBank.json\n"
     ]
    }
   ],
   "source": [
    "# Open Wallet Info JSON\n",
    "with open(\"walletInfo.json\", \"r\") as file:\n",
    "    walletInfo = json.load(file)\n",
    "\n",
    "# Assign Private and Public Keys\n",
    "PRIVATE_KEY = walletInfo[\"main\"][\"private\"]\n",
    "PUBLIC_KEY = walletInfo[\"main\"][\"public\"]\n",
    "\n",
    "# Connect to Infura Node\n",
    "NODE_URL = walletInfo[\"infuraURL\"]\n",
    "web3 = Web3(Web3.HTTPProvider(NODE_URL))\n",
    "web3.middleware_onion.inject(geth_poa_middleware, layer=0)\n",
    "\n",
    "# ABI Path to Data Bank Contract\n",
    "ABI_PATH = os.path.dirname(os.getcwd()) + \"\\\\build\\\\contracts\\\\DataBank.json\"\n",
    "\n",
    "# Open Contract Info JSON\n",
    "with open(\"contractInfo.json\", \"r\") as file:\n",
    "    contractInfo = json.load(file)\n",
    "\n",
    "# Fetch databank contract address\n",
    "ADDRESS = contractInfo[\"databank\"]\n",
    "\n",
    "print(ABI_PATH)"
   ]
  },
  {
   "cell_type": "markdown",
   "metadata": {},
   "source": [
    "### Contract Interaction Functions"
   ]
  },
  {
   "cell_type": "code",
   "execution_count": 11,
   "metadata": {},
   "outputs": [],
   "source": [
    "# Fetch contract\n",
    "def get_contract():\n",
    "    \"\"\"Gets the Data Bank Contract.\"\"\"\n",
    "    \n",
    "    with open(ABI_PATH) as f:\n",
    "        abi = json.load(f)\n",
    "\n",
    "    return web3.eth.contract(address=ADDRESS, abi=abi[\"abi\"])\n",
    "\n",
    "# Contract Interaction Functions\n",
    "\n",
    "def build_report_dict(bank, index) -> dict:\n",
    "    \"\"\"Builds a dictionary of a report's data.\"\"\"\n",
    "    \n",
    "    # Fetch Report Data\n",
    "    address = web3.toChecksumAddress(PUBLIC_KEY)\n",
    "\n",
    "    # Call all getter functions\n",
    "    reportType = bank.functions.get_report_type(index).call({'from': address })\n",
    "    reportImage = bank.functions.get_report_image(index).call({'from': address})\n",
    "    reportText = bank.functions.get_report_text(index).call({'from': address})\n",
    "    reportLocation = bank.functions.get_report_location(index).call({'from': address})\n",
    "    reportApproved = bank.functions.get_report_approved(index).call({'from': address})\n",
    "    reportStaked = bank.functions.get_report_staked_amount(index).call({'from': address})\n",
    "    reportReporter = bank.functions.get_report_reporter(index).call({'from': address})\n",
    "    reportTimestamp = bank.functions.get_report_timestamp(index).call({'from': address})\n",
    "\n",
    "    # Dictionary of report data\n",
    "    report = {\n",
    "        \"reportType\": reportType,\n",
    "        \"reportImage\": reportImage,\n",
    "        \"reportText\": reportText,\n",
    "        \"reportLocation\": reportLocation,\n",
    "        \"reportApproved\": reportApproved,\n",
    "        \"reportStaked\": reportStaked,\n",
    "        \"reportReporter\": reportReporter,\n",
    "        \"reportTimestamp\": reportTimestamp\n",
    "    }\n",
    "\n",
    "    return report\n",
    "\n",
    "def approve_report(bank, index):\n",
    "    \"\"\"Approves a report in the Data Bank Contract.\"\"\"\n",
    "\n",
    "    # Build Transaction\n",
    "    tx = bank.functions.approve_report(index).buildTransaction({\n",
    "        'from': PUBLIC_KEY,\n",
    "        'nonce': web3.eth.get_transaction_count(PUBLIC_KEY)\n",
    "        })\n",
    "\n",
    "    # Sign Transaction with Private Key\n",
    "    tx_create = web3.eth.account.sign_transaction(tx, PRIVATE_KEY)\n",
    "\n",
    "    # Send TXN and wait for receipt\n",
    "    tx_hash = web3.eth.send_raw_transaction(tx_create.rawTransaction)\n",
    "    tx_receipt = web3.eth.wait_for_transaction_receipt(tx_hash)\n",
    "\n",
    "def submit_report(bank, reportType, image, text, location):\n",
    "    \"\"\"Submits a report to the Data Bank Contract.\"\"\"\n",
    "\n",
    "    # Build Transaction\n",
    "    tx = bank.functions.submit_report(reportType, image, text, location).buildTransaction({\n",
    "        'value': 5000,\n",
    "        'from': PUBLIC_KEY,\n",
    "        'nonce': web3.eth.get_transaction_count(PUBLIC_KEY)\n",
    "        })\n",
    "\n",
    "    # Sign Transaction with Private Key\n",
    "    tx_create = web3.eth.account.sign_transaction(tx, PRIVATE_KEY)\n",
    "\n",
    "    # Send TXN and wait for receipt\n",
    "    tx_hash = web3.eth.send_raw_transaction(tx_create.rawTransaction)\n",
    "    tx_receipt = web3.eth.wait_for_transaction_receipt(tx_hash)\n",
    "\n",
    "def build_report_df(bank, lastNReports):\n",
    "    \"\"\"Builds a Pandas DataFrame of the last N reports.\"\"\"\n",
    "\n",
    "    # Fetch Report Data\n",
    "    address = web3.toChecksumAddress(PUBLIC_KEY)\n",
    "    reportCount = bank.functions.get_report_count().call({'from': address})\n",
    "\n",
    "    # Create DataFrame\n",
    "    df = pd.DataFrame(columns=[\"reportType\", \"reportImage\", \"reportText\", \"reportLocation\", \"reportApproved\", \"reportStaked\", \"reportReporter\", \"reportTimestamp\"])\n",
    "\n",
    "    # Populate DataFrame\n",
    "    for i in range(reportCount - lastNReports, reportCount):\n",
    "        report = build_report_dict(bank, i)\n",
    "        df = pd.concat([df, pd.DataFrame(report, index=[i])])\n",
    "    return df"
   ]
  },
  {
   "cell_type": "markdown",
   "metadata": {},
   "source": [
    "### Testing"
   ]
  },
  {
   "cell_type": "code",
   "execution_count": 12,
   "metadata": {},
   "outputs": [
    {
     "ename": "TypeError",
     "evalue": "concat() got an unexpected keyword argument 'bool_only'",
     "output_type": "error",
     "traceback": [
      "\u001b[1;31m---------------------------------------------------------------------------\u001b[0m",
      "\u001b[1;31mTypeError\u001b[0m                                 Traceback (most recent call last)",
      "\u001b[1;32mc:\\Users\\pmper\\demos\\GeoprotocolMVP\\Contract Deployment\\scripts\\interact.ipynb Cell 8\u001b[0m in \u001b[0;36m<cell line: 4>\u001b[1;34m()\u001b[0m\n\u001b[0;32m      <a href='vscode-notebook-cell:/c%3A/Users/pmper/demos/GeoprotocolMVP/Contract%20Deployment/scripts/interact.ipynb#X10sZmlsZQ%3D%3D?line=0'>1</a>\u001b[0m \u001b[39m# Testing\u001b[39;00m\n\u001b[0;32m      <a href='vscode-notebook-cell:/c%3A/Users/pmper/demos/GeoprotocolMVP/Contract%20Deployment/scripts/interact.ipynb#X10sZmlsZQ%3D%3D?line=1'>2</a>\u001b[0m bank \u001b[39m=\u001b[39m get_contract()\n\u001b[1;32m----> <a href='vscode-notebook-cell:/c%3A/Users/pmper/demos/GeoprotocolMVP/Contract%20Deployment/scripts/interact.ipynb#X10sZmlsZQ%3D%3D?line=3'>4</a>\u001b[0m d \u001b[39m=\u001b[39m build_report_df(bank, \u001b[39m8\u001b[39;49m)\n\u001b[0;32m      <a href='vscode-notebook-cell:/c%3A/Users/pmper/demos/GeoprotocolMVP/Contract%20Deployment/scripts/interact.ipynb#X10sZmlsZQ%3D%3D?line=5'>6</a>\u001b[0m d\u001b[39m.\u001b[39mhead()\n",
      "\u001b[1;32mc:\\Users\\pmper\\demos\\GeoprotocolMVP\\Contract Deployment\\scripts\\interact.ipynb Cell 8\u001b[0m in \u001b[0;36mbuild_report_df\u001b[1;34m(bank, lastNReports)\u001b[0m\n\u001b[0;32m     <a href='vscode-notebook-cell:/c%3A/Users/pmper/demos/GeoprotocolMVP/Contract%20Deployment/scripts/interact.ipynb#X10sZmlsZQ%3D%3D?line=85'>86</a>\u001b[0m \u001b[39mfor\u001b[39;00m i \u001b[39min\u001b[39;00m \u001b[39mrange\u001b[39m(reportCount \u001b[39m-\u001b[39m lastNReports, reportCount):\n\u001b[0;32m     <a href='vscode-notebook-cell:/c%3A/Users/pmper/demos/GeoprotocolMVP/Contract%20Deployment/scripts/interact.ipynb#X10sZmlsZQ%3D%3D?line=86'>87</a>\u001b[0m     report \u001b[39m=\u001b[39m build_report_dict(bank, i)\n\u001b[1;32m---> <a href='vscode-notebook-cell:/c%3A/Users/pmper/demos/GeoprotocolMVP/Contract%20Deployment/scripts/interact.ipynb#X10sZmlsZQ%3D%3D?line=87'>88</a>\u001b[0m     df \u001b[39m=\u001b[39m pd\u001b[39m.\u001b[39;49mconcat([df, pd\u001b[39m.\u001b[39;49mDataFrame(report, index\u001b[39m=\u001b[39;49m[i])], bool_only\u001b[39m=\u001b[39;49m\u001b[39mFalse\u001b[39;49;00m)\n\u001b[0;32m     <a href='vscode-notebook-cell:/c%3A/Users/pmper/demos/GeoprotocolMVP/Contract%20Deployment/scripts/interact.ipynb#X10sZmlsZQ%3D%3D?line=89'>90</a>\u001b[0m \u001b[39mreturn\u001b[39;00m df\n",
      "File \u001b[1;32m~\\AppData\\Local\\Packages\\PythonSoftwareFoundation.Python.3.10_qbz5n2kfra8p0\\LocalCache\\local-packages\\Python310\\site-packages\\pandas\\util\\_decorators.py:317\u001b[0m, in \u001b[0;36mdeprecate_nonkeyword_arguments.<locals>.decorate.<locals>.wrapper\u001b[1;34m(*args, **kwargs)\u001b[0m\n\u001b[0;32m    311\u001b[0m \u001b[39mif\u001b[39;00m \u001b[39mlen\u001b[39m(args) \u001b[39m>\u001b[39m num_allow_args:\n\u001b[0;32m    312\u001b[0m     warnings\u001b[39m.\u001b[39mwarn(\n\u001b[0;32m    313\u001b[0m         msg\u001b[39m.\u001b[39mformat(arguments\u001b[39m=\u001b[39marguments),\n\u001b[0;32m    314\u001b[0m         \u001b[39mFutureWarning\u001b[39;00m,\n\u001b[0;32m    315\u001b[0m         stacklevel\u001b[39m=\u001b[39mfind_stack_level(inspect\u001b[39m.\u001b[39mcurrentframe()),\n\u001b[0;32m    316\u001b[0m     )\n\u001b[1;32m--> 317\u001b[0m \u001b[39mreturn\u001b[39;00m func(\u001b[39m*\u001b[39margs, \u001b[39m*\u001b[39m\u001b[39m*\u001b[39mkwargs)\n",
      "\u001b[1;31mTypeError\u001b[0m: concat() got an unexpected keyword argument 'bool_only'"
     ]
    }
   ],
   "source": [
    "# Testing\n",
    "bank = get_contract()\n",
    "\n",
    "d = build_report_df(bank, 8)\n",
    "\n",
    "d.head()"
   ]
  }
 ],
 "metadata": {
  "kernelspec": {
   "display_name": "Python 3.10.7 64-bit (microsoft store)",
   "language": "python",
   "name": "python3"
  },
  "language_info": {
   "codemirror_mode": {
    "name": "ipython",
    "version": 3
   },
   "file_extension": ".py",
   "mimetype": "text/x-python",
   "name": "python",
   "nbconvert_exporter": "python",
   "pygments_lexer": "ipython3",
   "version": "3.10.7"
  },
  "orig_nbformat": 4,
  "vscode": {
   "interpreter": {
    "hash": "461c938d22c9c9838b690be7822db5003fc45b073482fbe043aaebcef8c0f4de"
   }
  }
 },
 "nbformat": 4,
 "nbformat_minor": 2
}
